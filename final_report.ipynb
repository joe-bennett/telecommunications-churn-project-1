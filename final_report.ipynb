{
 "cells": [
  {
   "cell_type": "markdown",
   "metadata": {},
   "source": [
    "#  Telcom churn project"
   ]
  },
  {
   "cell_type": "markdown",
   "metadata": {},
   "source": [
    "# Situation overview"
   ]
  },
  {
   "cell_type": "markdown",
   "metadata": {},
   "source": [
    "### We have Telco which is a premier phone, internet, and streaming solutions provider. As with any subscription based services company one of the biggest and consistent headwinds is increasing and maintaining customer persistency (henceforth referred to as customer churn)- and Telco is no different. Being able to determine drivers of churn along with identifying the customer segments most likely to churn is paramount. The lost oppertunity cost associated with a customer subscription cancellation is greater than that of customer retention initiatives, and the acquisition cost of new customers eclipses the retention initiative costs as well.  "
   ]
  },
  {
   "cell_type": "markdown",
   "metadata": {},
   "source": [
    "# Mission \n",
    "\n"
   ]
  },
  {
   "cell_type": "markdown",
   "metadata": {},
   "source": [
    "#### Provide proper README.md file that details the circumstances, facts, charactaristics of the project.\n",
    "\n",
    "### Deliver a final report notebook containing only what is material to convey the message along with appropriate markdown cells and code comments so that everything is easily understood\n",
    "\n",
    "### Present final notebook explaining it entirely and succinctly in alloted time.\n",
    "\n",
    "### Final notebook contain at least 4 questions in natural language, visualization, statistical test to address hypothesis, and summarization cell that answers the question and a final exploratory summary\n",
    "\n",
    "### Establish baseline to compare models to.\n",
    "\n",
    "### Develop 3 different models and evaluate them on the appropriate data subsets when appropriate\n",
    "\n",
    "### final report will address initial questions, provide meaningful yet doable recommendations, and steps that could be taken to improve.\n",
    "\n",
    "### Have all work completed and turned in by 1230HRS 23AUG2022.\n",
    "\n",
    "\n",
    "\n",
    "\n",
    "\n",
    "\n",
    "\n"
   ]
  },
  {
   "cell_type": "code",
   "execution_count": 2,
   "metadata": {},
   "outputs": [],
   "source": [
    "#these imports allow us to access our functions to acquire and prepare our data.\n",
    "import acquire \n",
    "import prepare\n",
    "#these imports allow us to work with Dataframes\n",
    "\n",
    "import numpy as np\n",
    "import pandas as pd\n",
    "\n",
    "#this allows us to use some statistical functions\n",
    "\n",
    "from scipy import stats\n",
    "\n",
    "#visualization imports\n",
    "import seaborn as sns\n",
    "import matplotlib.pyplot as plt\n"
   ]
  },
  {
   "cell_type": "markdown",
   "metadata": {},
   "source": [
    "# Acquire data"
   ]
  },
  {
   "cell_type": "code",
   "execution_count": 3,
   "metadata": {},
   "outputs": [],
   "source": [
    "# function here reads data into a DataFrame\n",
    "\n",
    "telco_churn=acquire.get_telco_data()"
   ]
  },
  {
   "cell_type": "code",
   "execution_count": 121,
   "metadata": {},
   "outputs": [
    {
     "name": "stdout",
     "output_type": "stream",
     "text": [
      "<class 'pandas.core.frame.DataFrame'>\n",
      "RangeIndex: 7043 entries, 0 to 7042\n",
      "Data columns (total 48 columns):\n",
      " #   Column                                 Non-Null Count  Dtype  \n",
      "---  ------                                 --------------  -----  \n",
      " 0   contract_type                          7043 non-null   object \n",
      " 1   customer_id                            7043 non-null   object \n",
      " 2   gender                                 7043 non-null   object \n",
      " 3   senior_citizen                         7043 non-null   int64  \n",
      " 4   partner                                7043 non-null   object \n",
      " 5   dependents                             7043 non-null   object \n",
      " 6   tenure                                 7043 non-null   int64  \n",
      " 7   phone_service                          7043 non-null   object \n",
      " 8   multiple_lines                         7043 non-null   object \n",
      " 9   online_security                        7043 non-null   object \n",
      " 10  online_backup                          7043 non-null   object \n",
      " 11  device_protection                      7043 non-null   object \n",
      " 12  tech_support                           7043 non-null   object \n",
      " 13  streaming_tv                           7043 non-null   object \n",
      " 14  streaming_movies                       7043 non-null   object \n",
      " 15  paperless_billing                      7043 non-null   object \n",
      " 16  monthly_charges                        7043 non-null   float64\n",
      " 17  total_charges                          7043 non-null   object \n",
      " 18  churn                                  7043 non-null   object \n",
      " 19  internet_service_type                  7043 non-null   object \n",
      " 20  payment_type                           7043 non-null   object \n",
      " 21  gender_encoded                         7043 non-null   int64  \n",
      " 22  partner_encoded                        7043 non-null   int64  \n",
      " 23  dependents_encoded                     7043 non-null   int64  \n",
      " 24  phone_service_encoded                  7043 non-null   int64  \n",
      " 25  paperless_billing_encoded              7043 non-null   int64  \n",
      " 26  churn_encoded                          7043 non-null   int64  \n",
      " 27  multiple_lines_No phone service        7043 non-null   uint8  \n",
      " 28  multiple_lines_Yes                     7043 non-null   uint8  \n",
      " 29  online_security_No internet service    7043 non-null   uint8  \n",
      " 30  online_security_Yes                    7043 non-null   uint8  \n",
      " 31  online_backup_No internet service      7043 non-null   uint8  \n",
      " 32  online_backup_Yes                      7043 non-null   uint8  \n",
      " 33  device_protection_No internet service  7043 non-null   uint8  \n",
      " 34  device_protection_Yes                  7043 non-null   uint8  \n",
      " 35  tech_support_No internet service       7043 non-null   uint8  \n",
      " 36  tech_support_Yes                       7043 non-null   uint8  \n",
      " 37  streaming_tv_No internet service       7043 non-null   uint8  \n",
      " 38  streaming_tv_Yes                       7043 non-null   uint8  \n",
      " 39  streaming_movies_No internet service   7043 non-null   uint8  \n",
      " 40  streaming_movies_Yes                   7043 non-null   uint8  \n",
      " 41  contract_type_One year                 7043 non-null   uint8  \n",
      " 42  contract_type_Two year                 7043 non-null   uint8  \n",
      " 43  internet_service_type_Fiber optic      7043 non-null   uint8  \n",
      " 44  internet_service_type_None             7043 non-null   uint8  \n",
      " 45  payment_type_Credit card (automatic)   7043 non-null   uint8  \n",
      " 46  payment_type_Electronic check          7043 non-null   uint8  \n",
      " 47  payment_type_Mailed check              7043 non-null   uint8  \n",
      "dtypes: float64(1), int64(8), object(18), uint8(21)\n",
      "memory usage: 1.6+ MB\n"
     ]
    }
   ],
   "source": [
    "telco_churn.info()"
   ]
  },
  {
   "cell_type": "markdown",
   "metadata": {},
   "source": [
    "# Acquire brief"
   ]
  },
  {
   "cell_type": "markdown",
   "metadata": {},
   "source": [
    "-  I wrote my my SQL query into a function called get_telco_data in my acquire.py file. \n",
    "-  this function also stores data as csv file on local directory for future use\n",
    "-  this DataFrame has 7,043 entry rows, and 48 columns."
   ]
  },
  {
   "cell_type": "code",
   "execution_count": 5,
   "metadata": {},
   "outputs": [],
   "source": [
    "#here I use the function impored from my perpare.py file to tidy and clean the data\n",
    "\n",
    "telco_churn=prepare.prep_telco_churn(telco_churn)\n"
   ]
  },
  {
   "cell_type": "code",
   "execution_count": 7,
   "metadata": {},
   "outputs": [
    {
     "name": "stdout",
     "output_type": "stream",
     "text": [
      "<class 'pandas.core.frame.DataFrame'>\n",
      "RangeIndex: 7043 entries, 0 to 7042\n",
      "Data columns (total 48 columns):\n",
      " #   Column                                 Non-Null Count  Dtype  \n",
      "---  ------                                 --------------  -----  \n",
      " 0   contract_type                          7043 non-null   object \n",
      " 1   customer_id                            7043 non-null   object \n",
      " 2   gender                                 7043 non-null   object \n",
      " 3   senior_citizen                         7043 non-null   int64  \n",
      " 4   partner                                7043 non-null   object \n",
      " 5   dependents                             7043 non-null   object \n",
      " 6   tenure                                 7043 non-null   int64  \n",
      " 7   phone_service                          7043 non-null   object \n",
      " 8   multiple_lines                         7043 non-null   object \n",
      " 9   online_security                        7043 non-null   object \n",
      " 10  online_backup                          7043 non-null   object \n",
      " 11  device_protection                      7043 non-null   object \n",
      " 12  tech_support                           7043 non-null   object \n",
      " 13  streaming_tv                           7043 non-null   object \n",
      " 14  streaming_movies                       7043 non-null   object \n",
      " 15  paperless_billing                      7043 non-null   object \n",
      " 16  monthly_charges                        7043 non-null   float64\n",
      " 17  total_charges                          7043 non-null   object \n",
      " 18  churn                                  7043 non-null   object \n",
      " 19  internet_service_type                  7043 non-null   object \n",
      " 20  payment_type                           7043 non-null   object \n",
      " 21  gender_encoded                         7043 non-null   int64  \n",
      " 22  partner_encoded                        7043 non-null   int64  \n",
      " 23  dependents_encoded                     7043 non-null   int64  \n",
      " 24  phone_service_encoded                  7043 non-null   int64  \n",
      " 25  paperless_billing_encoded              7043 non-null   int64  \n",
      " 26  churn_encoded                          7043 non-null   int64  \n",
      " 27  multiple_lines_No phone service        7043 non-null   uint8  \n",
      " 28  multiple_lines_Yes                     7043 non-null   uint8  \n",
      " 29  online_security_No internet service    7043 non-null   uint8  \n",
      " 30  online_security_Yes                    7043 non-null   uint8  \n",
      " 31  online_backup_No internet service      7043 non-null   uint8  \n",
      " 32  online_backup_Yes                      7043 non-null   uint8  \n",
      " 33  device_protection_No internet service  7043 non-null   uint8  \n",
      " 34  device_protection_Yes                  7043 non-null   uint8  \n",
      " 35  tech_support_No internet service       7043 non-null   uint8  \n",
      " 36  tech_support_Yes                       7043 non-null   uint8  \n",
      " 37  streaming_tv_No internet service       7043 non-null   uint8  \n",
      " 38  streaming_tv_Yes                       7043 non-null   uint8  \n",
      " 39  streaming_movies_No internet service   7043 non-null   uint8  \n",
      " 40  streaming_movies_Yes                   7043 non-null   uint8  \n",
      " 41  contract_type_One year                 7043 non-null   uint8  \n",
      " 42  contract_type_Two year                 7043 non-null   uint8  \n",
      " 43  internet_service_type_Fiber optic      7043 non-null   uint8  \n",
      " 44  internet_service_type_None             7043 non-null   uint8  \n",
      " 45  payment_type_Credit card (automatic)   7043 non-null   uint8  \n",
      " 46  payment_type_Electronic check          7043 non-null   uint8  \n",
      " 47  payment_type_Mailed check              7043 non-null   uint8  \n",
      "dtypes: float64(1), int64(8), object(18), uint8(21)\n",
      "memory usage: 1.6+ MB\n"
     ]
    }
   ],
   "source": [
    "# gives me a quick snapshot of data types, size, and number of rows and columns\n",
    "telco_churn.info()"
   ]
  },
  {
   "cell_type": "code",
   "execution_count": 8,
   "metadata": {},
   "outputs": [
    {
     "data": {
      "text/plain": [
       "contract_type                            0\n",
       "customer_id                              0\n",
       "gender                                   0\n",
       "senior_citizen                           0\n",
       "partner                                  0\n",
       "dependents                               0\n",
       "tenure                                   0\n",
       "phone_service                            0\n",
       "multiple_lines                           0\n",
       "online_security                          0\n",
       "online_backup                            0\n",
       "device_protection                        0\n",
       "tech_support                             0\n",
       "streaming_tv                             0\n",
       "streaming_movies                         0\n",
       "paperless_billing                        0\n",
       "monthly_charges                          0\n",
       "total_charges                            0\n",
       "churn                                    0\n",
       "internet_service_type                    0\n",
       "payment_type                             0\n",
       "gender_encoded                           0\n",
       "partner_encoded                          0\n",
       "dependents_encoded                       0\n",
       "phone_service_encoded                    0\n",
       "paperless_billing_encoded                0\n",
       "churn_encoded                            0\n",
       "multiple_lines_No phone service          0\n",
       "multiple_lines_Yes                       0\n",
       "online_security_No internet service      0\n",
       "online_security_Yes                      0\n",
       "online_backup_No internet service        0\n",
       "online_backup_Yes                        0\n",
       "device_protection_No internet service    0\n",
       "device_protection_Yes                    0\n",
       "tech_support_No internet service         0\n",
       "tech_support_Yes                         0\n",
       "streaming_tv_No internet service         0\n",
       "streaming_tv_Yes                         0\n",
       "streaming_movies_No internet service     0\n",
       "streaming_movies_Yes                     0\n",
       "contract_type_One year                   0\n",
       "contract_type_Two year                   0\n",
       "internet_service_type_Fiber optic        0\n",
       "internet_service_type_None               0\n",
       "payment_type_Credit card (automatic)     0\n",
       "payment_type_Electronic check            0\n",
       "payment_type_Mailed check                0\n",
       "dtype: int64"
      ]
     },
     "execution_count": 8,
     "metadata": {},
     "output_type": "execute_result"
    }
   ],
   "source": [
    "# here I am confirming that there are no nulls in the data\n",
    "\n",
    "telco_churn.isnull().sum()"
   ]
  },
  {
   "cell_type": "code",
   "execution_count": 129,
   "metadata": {},
   "outputs": [
    {
     "data": {
      "image/png": "[encoded data removed]",
      "text/plain": [
       "<Figure size 432x288 with 1 Axes>"
      ]
     },
     "metadata": {
      "needs_background": "light"
     },
     "output_type": "display_data"
    }
   ],
   "source": [
    "# create a bar plot to show the number of churn versus no churn customers\n",
    "\n",
    "\n",
    "telco_churn.churn.value_counts().plot.bar(color=['green','red'])\n",
    "plt.legend\n",
    "\n",
    "plt.title('Current number of clients who churned')\n",
    "plt.show()"
   ]
  },
  {
   "cell_type": "code",
   "execution_count": 9,
   "metadata": {},
   "outputs": [],
   "source": [
    "# calling my function from my prepare.py file to split my data into three subsets for modeling purposes. \n",
    "\n",
    "train, validate, test= prepare.my_train_test_split(telco_churn,'churn')"
   ]
  },
  {
   "cell_type": "code",
   "execution_count": 10,
   "metadata": {},
   "outputs": [
    {
     "data": {
      "text/plain": [
       "((4225, 48), (1409, 48), (1409, 48))"
      ]
     },
     "execution_count": 10,
     "metadata": {},
     "output_type": "execute_result"
    }
   ],
   "source": [
    "# demonstrating that the size for each of my data subsets are correct in relationship to one another\n",
    "\n",
    "train.shape,validate.shape,test.shape"
   ]
  },
  {
   "cell_type": "markdown",
   "metadata": {},
   "source": [
    "# Prepare brief"
   ]
  },
  {
   "cell_type": "markdown",
   "metadata": {},
   "source": [
    "- First thing I used my prep_telco_churn function imported from my prepare.py file to clean and tidy the data up\n",
    "\n",
    "- Multiple columns that were redundant were dropped, columns were also added that have encoded data to allow the DataFrame to be fed into models.\n",
    "\n",
    "- As can see above checked for and confirmed there are no null values to worry about.\n",
    "\n",
    "- Quick visual look at our target variable shows that the amount of churn is around a third the size of the no churn.\n",
    "\n",
    "- I split my data into 3 subsets - train, validate test (60/20/20 ratio) stratifying on churn column.\n"
   ]
  },
  {
   "cell_type": "markdown",
   "metadata": {},
   "source": [
    "# Explore data"
   ]
  },
  {
   "cell_type": "markdown",
   "metadata": {},
   "source": [
    "## Does contract type have a significant relationship with customer churn?"
   ]
  },
  {
   "cell_type": "code",
   "execution_count": 153,
   "metadata": {},
   "outputs": [
    {
     "data": {
      "text/html": [
       "<div>\n",
       "<style scoped>\n",
       "    .dataframe tbody tr th:only-of-type {\n",
       "        vertical-align: middle;\n",
       "    }\n",
       "\n",
       "    .dataframe tbody tr th {\n",
       "        vertical-align: top;\n",
       "    }\n",
       "\n",
       "    .dataframe thead th {\n",
       "        text-align: right;\n",
       "    }\n",
       "</style>\n",
       "<table border=\"1\" class=\"dataframe\">\n",
       "  <thead>\n",
       "    <tr style=\"text-align: right;\">\n",
       "      <th>churn</th>\n",
       "      <th>No</th>\n",
       "      <th>Yes</th>\n",
       "    </tr>\n",
       "    <tr>\n",
       "      <th>contract_type</th>\n",
       "      <th></th>\n",
       "      <th></th>\n",
       "    </tr>\n",
       "  </thead>\n",
       "  <tbody>\n",
       "    <tr>\n",
       "      <th>Month-to-month</th>\n",
       "      <td>1327</td>\n",
       "      <td>990</td>\n",
       "    </tr>\n",
       "    <tr>\n",
       "      <th>One year</th>\n",
       "      <td>815</td>\n",
       "      <td>98</td>\n",
       "    </tr>\n",
       "    <tr>\n",
       "      <th>Two year</th>\n",
       "      <td>962</td>\n",
       "      <td>33</td>\n",
       "    </tr>\n",
       "  </tbody>\n",
       "</table>\n",
       "</div>"
      ],
      "text/plain": [
       "churn             No  Yes\n",
       "contract_type            \n",
       "Month-to-month  1327  990\n",
       "One year         815   98\n",
       "Two year         962   33"
      ]
     },
     "execution_count": 153,
     "metadata": {},
     "output_type": "execute_result"
    }
   ],
   "source": [
    "# creating a crosstabulaion so that  I a can feed it into my bar plot\n",
    "\n",
    "contract_and_churn= pd.crosstab(train.contract_type,train.churn)\n",
    "contract_and_churn"
   ]
  },
  {
   "cell_type": "code",
   "execution_count": 159,
   "metadata": {},
   "outputs": [
    {
     "data": {
      "text/plain": [
       "<Figure size 576x1008 with 0 Axes>"
      ]
     },
     "metadata": {},
     "output_type": "display_data"
    },
    {
     "data": {
      "image/png": "[encoded data removed]",
      "text/plain": [
       "<Figure size 432x288 with 1 Axes>"
      ]
     },
     "metadata": {
      "needs_background": "light"
     },
     "output_type": "display_data"
    }
   ],
   "source": [
    "#creating bar plot to show the side by side comparision of churn in respect to contract type\n",
    "contract_and_churn.plot.bar()\n",
    "plt.title(\"contract type in relation to churn/no churn\")\n",
    "\n",
    "plt.show()"
   ]
  },
  {
   "cell_type": "markdown",
   "metadata": {},
   "source": [
    "### Just by looking at this visual comparison we can clearly observe an exponential delta in churn rate based on contract type."
   ]
  },
  {
   "cell_type": "markdown",
   "metadata": {},
   "source": [
    "\n",
    "# 1) Is there a internet service type associated with churn more than expected?\n"
   ]
  },
  {
   "cell_type": "code",
   "execution_count": 11,
   "metadata": {},
   "outputs": [
    {
     "data": {
      "text/plain": [
       "Text(0.5, 1.0, 'fiber optic customers seem to churn more')"
      ]
     },
     "execution_count": 11,
     "metadata": {},
     "output_type": "execute_result"
    },
    {
     "data": {
      "image/png": "[encoded data removed]",
      "text/plain": [
       "<Figure size 432x288 with 1 Axes>"
      ]
     },
     "metadata": {
      "needs_background": "light"
     },
     "output_type": "display_data"
    }
   ],
   "source": [
    "# created a crosstab in order to create a bar plot from it\n",
    "observed_ist=pd.crosstab(train.internet_service_type, train.churn)\n",
    "\n",
    "# bar plot demonstrating the number of occurances of churn and no churn on the basis of internet service type\n",
    "observed_ist.plot.bar()\n",
    "\n",
    "plt.title('fiber optic customers seem to churn more')"
   ]
  },
  {
   "cell_type": "markdown",
   "metadata": {},
   "source": [
    "## graph conclusions\n",
    "\n",
    "- looking at the distribution of different service types bifurcated between those who have and have not churned we can see large disparities amongst all three.\n",
    "- this warrants further investigation and statistical investigation which we will do below"
   ]
  },
  {
   "cell_type": "markdown",
   "metadata": {},
   "source": [
    "### H_0= there is no difference in churn rates between internet service types\n",
    "\n",
    "### H_a= some internet service types churn more often than other service types\n",
    "\n",
    "### alpha         = .05"
   ]
  },
  {
   "cell_type": "code",
   "execution_count": 13,
   "metadata": {},
   "outputs": [],
   "source": [
    "\n",
    "#here I am using this function to calculate the Chi^2 p value, degrees of freedom, and expected values then saving them each individually to a corresponding variable\n",
    "chi2_ist,p_ist,degf_ist,expected_ist = stats.chi2_contingency(observed_ist)"
   ]
  },
  {
   "cell_type": "code",
   "execution_count": 134,
   "metadata": {},
   "outputs": [
    {
     "name": "stdout",
     "output_type": "stream",
     "text": [
      "chi2 is 423.25897064244805\n"
     ]
    }
   ],
   "source": [
    "# chi^2 value\n",
    "\n",
    "print('chi2 is',chi2_ist)\n",
    "\n"
   ]
  },
  {
   "cell_type": "code",
   "execution_count": 15,
   "metadata": {},
   "outputs": [
    {
     "data": {
      "text/plain": [
       "1.2316358365835844e-92"
      ]
     },
     "execution_count": 15,
     "metadata": {},
     "output_type": "execute_result"
    }
   ],
   "source": [
    "#p-value\n",
    "\n",
    "p_ist"
   ]
  },
  {
   "cell_type": "code",
   "execution_count": 16,
   "metadata": {},
   "outputs": [
    {
     "data": {
      "text/plain": [
       "array([[1063.07408284,  383.92591716],\n",
       "       [1362.82130178,  492.17869822],\n",
       "       [ 678.10461538,  244.89538462]])"
      ]
     },
     "execution_count": 16,
     "metadata": {},
     "output_type": "execute_result"
    }
   ],
   "source": [
    "# expected value outpou\n",
    "\n",
    "expected_ist"
   ]
  },
  {
   "cell_type": "code",
   "execution_count": 17,
   "metadata": {},
   "outputs": [],
   "source": [
    "alpha = .05"
   ]
  },
  {
   "cell_type": "code",
   "execution_count": 148,
   "metadata": {},
   "outputs": [
    {
     "name": "stdout",
     "output_type": "stream",
     "text": [
      "We reject the null hypothesis\n"
     ]
    }
   ],
   "source": [
    "if p_ist < alpha:\n",
    "    print('We reject the null hypothesis')\n",
    "else:\n",
    "    print('We fail to reject the null hypothesis')"
   ]
  },
  {
   "cell_type": "markdown",
   "metadata": {},
   "source": [
    "# Conclusion and takeaway \n",
    "\n",
    "- is we reject H_0 and conclude there is a statistcally significant relationship between internet service type and churn. \n",
    "\n",
    "- below we will look at each of the 3 possible types individually and statistically test them in relation to churn so we can further specify. explanation below. "
   ]
  },
  {
   "cell_type": "markdown",
   "metadata": {},
   "source": [
    "#### each one of the three internet service types in above chart need to be split and isolated to perform chi^2 test on. Our initial hypothesis testing only evaluates the relationship between internet service column as a whole and not each option individually."
   ]
  },
  {
   "cell_type": "code",
   "execution_count": 135,
   "metadata": {},
   "outputs": [],
   "source": [
    "#here i carve out a duplicate dataframe to put dummy variables in for the internet service type. I tried to run a boolean == dsl for example and it only showed false outcomes which is insufficient \n",
    "\n",
    "i_s_t_db=train\n",
    "\n",
    "i_s_b_dummy=pd.get_dummies(i_s_t_db.internet_service_type,)"
   ]
  },
  {
   "cell_type": "code",
   "execution_count": 21,
   "metadata": {},
   "outputs": [
    {
     "data": {
      "text/html": [
       "<div>\n",
       "<style scoped>\n",
       "    .dataframe tbody tr th:only-of-type {\n",
       "        vertical-align: middle;\n",
       "    }\n",
       "\n",
       "    .dataframe tbody tr th {\n",
       "        vertical-align: top;\n",
       "    }\n",
       "\n",
       "    .dataframe thead th {\n",
       "        text-align: right;\n",
       "    }\n",
       "</style>\n",
       "<table border=\"1\" class=\"dataframe\">\n",
       "  <thead>\n",
       "    <tr style=\"text-align: right;\">\n",
       "      <th></th>\n",
       "      <th>DSL</th>\n",
       "      <th>Fiber optic</th>\n",
       "      <th>None</th>\n",
       "    </tr>\n",
       "  </thead>\n",
       "  <tbody>\n",
       "    <tr>\n",
       "      <th>5911</th>\n",
       "      <td>1</td>\n",
       "      <td>0</td>\n",
       "      <td>0</td>\n",
       "    </tr>\n",
       "    <tr>\n",
       "      <th>2479</th>\n",
       "      <td>0</td>\n",
       "      <td>0</td>\n",
       "      <td>1</td>\n",
       "    </tr>\n",
       "    <tr>\n",
       "      <th>5889</th>\n",
       "      <td>1</td>\n",
       "      <td>0</td>\n",
       "      <td>0</td>\n",
       "    </tr>\n",
       "    <tr>\n",
       "      <th>6087</th>\n",
       "      <td>1</td>\n",
       "      <td>0</td>\n",
       "      <td>0</td>\n",
       "    </tr>\n",
       "    <tr>\n",
       "      <th>785</th>\n",
       "      <td>0</td>\n",
       "      <td>1</td>\n",
       "      <td>0</td>\n",
       "    </tr>\n",
       "    <tr>\n",
       "      <th>...</th>\n",
       "      <td>...</td>\n",
       "      <td>...</td>\n",
       "      <td>...</td>\n",
       "    </tr>\n",
       "    <tr>\n",
       "      <th>6102</th>\n",
       "      <td>0</td>\n",
       "      <td>1</td>\n",
       "      <td>0</td>\n",
       "    </tr>\n",
       "    <tr>\n",
       "      <th>356</th>\n",
       "      <td>1</td>\n",
       "      <td>0</td>\n",
       "      <td>0</td>\n",
       "    </tr>\n",
       "    <tr>\n",
       "      <th>1756</th>\n",
       "      <td>0</td>\n",
       "      <td>1</td>\n",
       "      <td>0</td>\n",
       "    </tr>\n",
       "    <tr>\n",
       "      <th>2127</th>\n",
       "      <td>1</td>\n",
       "      <td>0</td>\n",
       "      <td>0</td>\n",
       "    </tr>\n",
       "    <tr>\n",
       "      <th>3586</th>\n",
       "      <td>1</td>\n",
       "      <td>0</td>\n",
       "      <td>0</td>\n",
       "    </tr>\n",
       "  </tbody>\n",
       "</table>\n",
       "<p>4225 rows × 3 columns</p>\n",
       "</div>"
      ],
      "text/plain": [
       "      DSL  Fiber optic  None\n",
       "5911    1            0     0\n",
       "2479    0            0     1\n",
       "5889    1            0     0\n",
       "6087    1            0     0\n",
       "785     0            1     0\n",
       "...   ...          ...   ...\n",
       "6102    0            1     0\n",
       "356     1            0     0\n",
       "1756    0            1     0\n",
       "2127    1            0     0\n",
       "3586    1            0     0\n",
       "\n",
       "[4225 rows x 3 columns]"
      ]
     },
     "execution_count": 21,
     "metadata": {},
     "output_type": "execute_result"
    }
   ],
   "source": [
    "# DataFrame created in above cell used to answer this quetion \n",
    "\n",
    "i_s_b_dummy"
   ]
  },
  {
   "cell_type": "code",
   "execution_count": 22,
   "metadata": {},
   "outputs": [],
   "source": [
    "#adding thee churn values to the DataFrame so that the DataFrame can be used for statistical testing\n",
    "df_dummies=pd.concat((i_s_b_dummy,i_s_t_db.churn),axis=1)\n"
   ]
  },
  {
   "cell_type": "markdown",
   "metadata": {},
   "source": [
    "# this is isolating and evaluation of DSL feature\n",
    "\n",
    "### H_0= there is no relationship between DSL internet service and churn\n",
    "\n",
    "### H_a= DSL internet service type has a statistically significant relation ship to customer churn\n",
    "\n",
    "### alpha         = .05\n"
   ]
  },
  {
   "cell_type": "code",
   "execution_count": 24,
   "metadata": {},
   "outputs": [],
   "source": [
    "#creating crosstab to evaluate DSL customers and if they did or did not churn\n",
    "\n",
    "observed_dsl=pd.crosstab(df_dummies.DSL,df_dummies.churn)"
   ]
  },
  {
   "cell_type": "code",
   "execution_count": 25,
   "metadata": {},
   "outputs": [
    {
     "data": {
      "text/html": [
       "<div>\n",
       "<style scoped>\n",
       "    .dataframe tbody tr th:only-of-type {\n",
       "        vertical-align: middle;\n",
       "    }\n",
       "\n",
       "    .dataframe tbody tr th {\n",
       "        vertical-align: top;\n",
       "    }\n",
       "\n",
       "    .dataframe thead th {\n",
       "        text-align: right;\n",
       "    }\n",
       "</style>\n",
       "<table border=\"1\" class=\"dataframe\">\n",
       "  <thead>\n",
       "    <tr style=\"text-align: right;\">\n",
       "      <th>churn</th>\n",
       "      <th>No</th>\n",
       "      <th>Yes</th>\n",
       "    </tr>\n",
       "    <tr>\n",
       "      <th>DSL</th>\n",
       "      <th></th>\n",
       "      <th></th>\n",
       "    </tr>\n",
       "  </thead>\n",
       "  <tbody>\n",
       "    <tr>\n",
       "      <th>0</th>\n",
       "      <td>1931</td>\n",
       "      <td>847</td>\n",
       "    </tr>\n",
       "    <tr>\n",
       "      <th>1</th>\n",
       "      <td>1173</td>\n",
       "      <td>274</td>\n",
       "    </tr>\n",
       "  </tbody>\n",
       "</table>\n",
       "</div>"
      ],
      "text/plain": [
       "churn    No  Yes\n",
       "DSL             \n",
       "0      1931  847\n",
       "1      1173  274"
      ]
     },
     "execution_count": 25,
     "metadata": {},
     "output_type": "execute_result"
    }
   ],
   "source": [
    "observed_dsl"
   ]
  },
  {
   "cell_type": "code",
   "execution_count": 26,
   "metadata": {},
   "outputs": [],
   "source": [
    "#here I am using this function to calculate the Chi^2 p value, degrees of freedom, and expected values then saving them each individually to a corresponding variable (each outputted in cells below)\n",
    "\n",
    "chi2_dsl,p_dsl,degf_dsl, expected_dsl= stats.chi2_contingency(observed_dsl)"
   ]
  },
  {
   "cell_type": "code",
   "execution_count": 27,
   "metadata": {},
   "outputs": [
    {
     "data": {
      "text/plain": [
       "64.5642979302063"
      ]
     },
     "execution_count": 27,
     "metadata": {},
     "output_type": "execute_result"
    }
   ],
   "source": [
    "#chi^2 value\n",
    "\n",
    "chi2_dsl"
   ]
  },
  {
   "cell_type": "code",
   "execution_count": 28,
   "metadata": {},
   "outputs": [
    {
     "data": {
      "text/plain": [
       "9.343307371729716e-16"
      ]
     },
     "execution_count": 28,
     "metadata": {},
     "output_type": "execute_result"
    }
   ],
   "source": [
    "#p-value\n",
    "\n",
    "p_dsl"
   ]
  },
  {
   "cell_type": "code",
   "execution_count": 136,
   "metadata": {},
   "outputs": [
    {
     "data": {
      "text/plain": [
       "array([[2041.,  737.],\n",
       "       [1063.,  384.]])"
      ]
     },
     "execution_count": 136,
     "metadata": {},
     "output_type": "execute_result"
    }
   ],
   "source": [
    "#expected value\n",
    "\n",
    "expected_dsl= expected_dsl.round()\n",
    "expected_dsl"
   ]
  },
  {
   "cell_type": "markdown",
   "metadata": {},
   "source": [
    "# conclusion and takeaway \n",
    "\n",
    "- we reject the null hypothesis and there is a significant relationship bewtween DSL customers and churn\n",
    "\n",
    "- DSL customer status is a useful feature"
   ]
  },
  {
   "cell_type": "markdown",
   "metadata": {},
   "source": [
    "# this is isolating and evaluating fiber optic feature\n",
    "\n",
    "\n",
    "### H_0= there is no relationship between fiber optic internet service and churn\n",
    "\n",
    "### H_a= fiber optic internet service type has a statistically significant relation ship to customer churn"
   ]
  },
  {
   "cell_type": "code",
   "execution_count": 30,
   "metadata": {},
   "outputs": [],
   "source": [
    "\n",
    "# crosstab created to evaluate fiber optic custoers who churned or no churn\n",
    "observed_fiber_optic=pd.crosstab(df_dummies['Fiber optic'] ,df_dummies.churn)\n"
   ]
  },
  {
   "cell_type": "code",
   "execution_count": 31,
   "metadata": {},
   "outputs": [
    {
     "data": {
      "text/html": [
       "<div>\n",
       "<style scoped>\n",
       "    .dataframe tbody tr th:only-of-type {\n",
       "        vertical-align: middle;\n",
       "    }\n",
       "\n",
       "    .dataframe tbody tr th {\n",
       "        vertical-align: top;\n",
       "    }\n",
       "\n",
       "    .dataframe thead th {\n",
       "        text-align: right;\n",
       "    }\n",
       "</style>\n",
       "<table border=\"1\" class=\"dataframe\">\n",
       "  <thead>\n",
       "    <tr style=\"text-align: right;\">\n",
       "      <th>churn</th>\n",
       "      <th>No</th>\n",
       "      <th>Yes</th>\n",
       "    </tr>\n",
       "    <tr>\n",
       "      <th>Fiber optic</th>\n",
       "      <th></th>\n",
       "      <th></th>\n",
       "    </tr>\n",
       "  </thead>\n",
       "  <tbody>\n",
       "    <tr>\n",
       "      <th>0</th>\n",
       "      <td>2022</td>\n",
       "      <td>348</td>\n",
       "    </tr>\n",
       "    <tr>\n",
       "      <th>1</th>\n",
       "      <td>1082</td>\n",
       "      <td>773</td>\n",
       "    </tr>\n",
       "  </tbody>\n",
       "</table>\n",
       "</div>"
      ],
      "text/plain": [
       "churn          No  Yes\n",
       "Fiber optic           \n",
       "0            2022  348\n",
       "1            1082  773"
      ]
     },
     "execution_count": 31,
     "metadata": {},
     "output_type": "execute_result"
    }
   ],
   "source": [
    "observed_fiber_optic"
   ]
  },
  {
   "cell_type": "code",
   "execution_count": 32,
   "metadata": {},
   "outputs": [],
   "source": [
    "#here I am using this function to calculate the Chi^2 p value, degrees of freedom, and expected values then saving them each individually to a corresponding variable\n",
    "\n",
    "chi2_fiber_optic,p_fiber_optic,degf_fiber_optic, expected_fiber_optic= stats.chi2_contingency(observed_fiber_optic)"
   ]
  },
  {
   "cell_type": "code",
   "execution_count": 33,
   "metadata": {},
   "outputs": [
    {
     "data": {
      "text/plain": [
       "387.4117221686711"
      ]
     },
     "execution_count": 33,
     "metadata": {},
     "output_type": "execute_result"
    }
   ],
   "source": [
    "# chi^2 value\n",
    "\n",
    "chi2_fiber_optic"
   ]
  },
  {
   "cell_type": "code",
   "execution_count": 34,
   "metadata": {},
   "outputs": [
    {
     "data": {
      "text/plain": [
       "3.0293763443640615e-86"
      ]
     },
     "execution_count": 34,
     "metadata": {},
     "output_type": "execute_result"
    }
   ],
   "source": [
    "#p-value\n",
    "\n",
    "\n",
    "p_fiber_optic"
   ]
  },
  {
   "cell_type": "code",
   "execution_count": 137,
   "metadata": {},
   "outputs": [
    {
     "data": {
      "text/plain": [
       "array([[1741.,  629.],\n",
       "       [1363.,  492.]])"
      ]
     },
     "execution_count": 137,
     "metadata": {},
     "output_type": "execute_result"
    }
   ],
   "source": [
    "\n",
    "#expected values\n",
    "\n",
    "expected_fiber_optic=expected_fiber_optic.round()\n",
    "expected_fiber_optic"
   ]
  },
  {
   "cell_type": "markdown",
   "metadata": {},
   "source": [
    "# Conclusion and takeaway\n",
    "\n",
    "- We reject the null hypothesis and conclude there is a significant relationship between fiber optic customers and churn.\n",
    "\n",
    "- fiber optic customer status is a useful feature."
   ]
  },
  {
   "cell_type": "markdown",
   "metadata": {},
   "source": [
    "# this is islolating and evaluating the \"none\" catagory \n",
    "\n",
    "### H_0= there is no relationship between \"none\" internet service and churn\n",
    "\n",
    "### H_a= \"none\" internet service type has a statistically significant relation ship to customer churn"
   ]
  },
  {
   "cell_type": "code",
   "execution_count": 36,
   "metadata": {},
   "outputs": [],
   "source": [
    "#crosstab created to evaluate customers with no internet service and if they churn or not\n",
    "\n",
    "observed_none=pd.crosstab(df_dummies['None'] ,df_dummies.churn)\n"
   ]
  },
  {
   "cell_type": "code",
   "execution_count": 37,
   "metadata": {},
   "outputs": [
    {
     "data": {
      "text/html": [
       "<div>\n",
       "<style scoped>\n",
       "    .dataframe tbody tr th:only-of-type {\n",
       "        vertical-align: middle;\n",
       "    }\n",
       "\n",
       "    .dataframe tbody tr th {\n",
       "        vertical-align: top;\n",
       "    }\n",
       "\n",
       "    .dataframe thead th {\n",
       "        text-align: right;\n",
       "    }\n",
       "</style>\n",
       "<table border=\"1\" class=\"dataframe\">\n",
       "  <thead>\n",
       "    <tr style=\"text-align: right;\">\n",
       "      <th>churn</th>\n",
       "      <th>No</th>\n",
       "      <th>Yes</th>\n",
       "    </tr>\n",
       "    <tr>\n",
       "      <th>None</th>\n",
       "      <th></th>\n",
       "      <th></th>\n",
       "    </tr>\n",
       "  </thead>\n",
       "  <tbody>\n",
       "    <tr>\n",
       "      <th>0</th>\n",
       "      <td>2255</td>\n",
       "      <td>1047</td>\n",
       "    </tr>\n",
       "    <tr>\n",
       "      <th>1</th>\n",
       "      <td>849</td>\n",
       "      <td>74</td>\n",
       "    </tr>\n",
       "  </tbody>\n",
       "</table>\n",
       "</div>"
      ],
      "text/plain": [
       "churn    No   Yes\n",
       "None             \n",
       "0      2255  1047\n",
       "1       849    74"
      ]
     },
     "execution_count": 37,
     "metadata": {},
     "output_type": "execute_result"
    }
   ],
   "source": [
    "observed_none"
   ]
  },
  {
   "cell_type": "code",
   "execution_count": 38,
   "metadata": {},
   "outputs": [],
   "source": [
    "#here I am using this function to calculate the Chi^2 p value, degrees of freedom, and expected values then saving them each individually to a corresponding variable\n",
    "\n",
    "chi2_none,p_none,degf_none, expected_none= stats.chi2_contingency(observed_none)"
   ]
  },
  {
   "cell_type": "code",
   "execution_count": 39,
   "metadata": {},
   "outputs": [
    {
     "data": {
      "text/plain": [
       "206.48556625572866"
      ]
     },
     "execution_count": 39,
     "metadata": {},
     "output_type": "execute_result"
    }
   ],
   "source": [
    "#chi^2 value\n",
    "\n",
    "chi2_none"
   ]
  },
  {
   "cell_type": "code",
   "execution_count": 40,
   "metadata": {},
   "outputs": [
    {
     "data": {
      "text/plain": [
       "8.028710753333225e-47"
      ]
     },
     "execution_count": 40,
     "metadata": {},
     "output_type": "execute_result"
    }
   ],
   "source": [
    "# p-value\n",
    "\n",
    "p_none"
   ]
  },
  {
   "cell_type": "code",
   "execution_count": 139,
   "metadata": {},
   "outputs": [
    {
     "data": {
      "text/plain": [
       "array([[2426.,  876.],\n",
       "       [ 678.,  245.]])"
      ]
     },
     "execution_count": 139,
     "metadata": {},
     "output_type": "execute_result"
    }
   ],
   "source": [
    "# expected values\n",
    "\n",
    "expected_none=expected_none.round()\n",
    "expected_none"
   ]
  },
  {
   "cell_type": "markdown",
   "metadata": {},
   "source": [
    "# Conclusion and takeaways\n",
    "\n",
    "- we reject the null hypothesis and conclude there is a significant relationship between customers with no internet service and churn\n",
    "\n",
    "- customers who have no internet service plan is a useful feature."
   ]
  },
  {
   "cell_type": "markdown",
   "metadata": {},
   "source": [
    "# summary of all three in single DataFrame for comparison "
   ]
  },
  {
   "cell_type": "code",
   "execution_count": 140,
   "metadata": {},
   "outputs": [
    {
     "data": {
      "text/html": [
       "<div>\n",
       "<style scoped>\n",
       "    .dataframe tbody tr th:only-of-type {\n",
       "        vertical-align: middle;\n",
       "    }\n",
       "\n",
       "    .dataframe tbody tr th {\n",
       "        vertical-align: top;\n",
       "    }\n",
       "\n",
       "    .dataframe thead th {\n",
       "        text-align: right;\n",
       "    }\n",
       "</style>\n",
       "<table border=\"1\" class=\"dataframe\">\n",
       "  <thead>\n",
       "    <tr style=\"text-align: right;\">\n",
       "      <th></th>\n",
       "      <th>DSL</th>\n",
       "      <th>fiber_optic</th>\n",
       "      <th>none</th>\n",
       "    </tr>\n",
       "  </thead>\n",
       "  <tbody>\n",
       "    <tr>\n",
       "      <th>chi^2</th>\n",
       "      <td>64.564298</td>\n",
       "      <td>387.411722</td>\n",
       "      <td>206.485566</td>\n",
       "    </tr>\n",
       "    <tr>\n",
       "      <th>p_value</th>\n",
       "      <td>0.0</td>\n",
       "      <td>0.0</td>\n",
       "      <td>0.0</td>\n",
       "    </tr>\n",
       "    <tr>\n",
       "      <th>degrees_freedom</th>\n",
       "      <td>1</td>\n",
       "      <td>1</td>\n",
       "      <td>1</td>\n",
       "    </tr>\n",
       "    <tr>\n",
       "      <th>expected</th>\n",
       "      <td>[[2041.0, 737.0], [1063.0, 384.0]]</td>\n",
       "      <td>[[1741.0, 629.0], [1363.0, 492.0]]</td>\n",
       "      <td>[[2426.0, 876.0], [678.0, 245.0]]</td>\n",
       "    </tr>\n",
       "  </tbody>\n",
       "</table>\n",
       "</div>"
      ],
      "text/plain": [
       "                                                DSL  \\\n",
       "chi^2                                     64.564298   \n",
       "p_value                                         0.0   \n",
       "degrees_freedom                                   1   \n",
       "expected         [[2041.0, 737.0], [1063.0, 384.0]]   \n",
       "\n",
       "                                        fiber_optic  \\\n",
       "chi^2                                    387.411722   \n",
       "p_value                                         0.0   \n",
       "degrees_freedom                                   1   \n",
       "expected         [[1741.0, 629.0], [1363.0, 492.0]]   \n",
       "\n",
       "                                              none  \n",
       "chi^2                                   206.485566  \n",
       "p_value                                        0.0  \n",
       "degrees_freedom                                  1  \n",
       "expected         [[2426.0, 876.0], [678.0, 245.0]]  "
      ]
     },
     "execution_count": 140,
     "metadata": {},
     "output_type": "execute_result"
    }
   ],
   "source": [
    "#created a dictionary to be able to summarize all three internet service options on one spot\n",
    "\n",
    "summary_dict= {\n",
    "    'DSL' : [chi2_dsl,p_dsl,degf_dsl, expected_dsl],\n",
    "    'fiber_optic' : [chi2_fiber_optic,p_fiber_optic,degf_fiber_optic, expected_fiber_optic],\n",
    "    'none' : [chi2_none,p_none,degf_none, expected_none],\n",
    "}\n",
    "\n",
    "\n",
    "# created a DataFrame from dictionary and labeled the index to output a clean visual\n",
    "summary_df=pd.DataFrame(summary_dict)\n",
    "\n",
    "summary_df.index = ['chi^2', 'p_value','degrees_freedom','expected']\n",
    "summary_df"
   ]
  },
  {
   "cell_type": "markdown",
   "metadata": {},
   "source": [
    "# question  conclusion and takeaways\n",
    "\n",
    "- looking at this comparision we can say that customers who have fiber optic service have the strongest relationship to churn, followed by \"none\" and DSL\n",
    "\n",
    "- after seeing these results I concluded each one of these will be used for modeling purposes"
   ]
  },
  {
   "cell_type": "markdown",
   "metadata": {},
   "source": [
    "#  Do customers who churn have a higher average monthly service cost that those who do not?"
   ]
  },
  {
   "cell_type": "markdown",
   "metadata": {},
   "source": []
  },
  {
   "cell_type": "code",
   "execution_count": 142,
   "metadata": {},
   "outputs": [
    {
     "data": {
      "image/png": "[encoded data removed]",
      "text/plain": [
       "<Figure size 1080x648 with 1 Axes>"
      ]
     },
     "metadata": {
      "needs_background": "light"
     },
     "output_type": "display_data"
    }
   ],
   "source": [
    "# boxplot created to demonstate the relationship of avearage monthly charges of customers who churn to average customer charges of those who do not churn\n",
    "\n",
    "\n",
    "\n",
    "plt.figure(figsize=(15,9)) \n",
    "sns.boxplot(y='churn', x='monthly_charges', data=train, showmeans=True)\n",
    "plt.title('Customers who do not churn on avg pay less than those who do')\n",
    "plt.show()\n",
    "\n"
   ]
  },
  {
   "cell_type": "markdown",
   "metadata": {},
   "source": []
  },
  {
   "cell_type": "markdown",
   "metadata": {},
   "source": [
    "### H_0= Mean of monthly charges of churned customers <= Mean of monthly charges of customers who haven't churned\n",
    "\n",
    "### H_a= there is a significant relationship bewteen higher average monthly payment and higher customer churn"
   ]
  },
  {
   "cell_type": "code",
   "execution_count": 46,
   "metadata": {},
   "outputs": [
    {
     "data": {
      "text/plain": [
       "churn\n",
       "No     61.628334\n",
       "Yes    74.547591\n",
       "Name: monthly_charges, dtype: float64"
      ]
     },
     "execution_count": 46,
     "metadata": {},
     "output_type": "execute_result"
    }
   ],
   "source": [
    "#calculating the averages of mo. charges of churn and no churn customers\n",
    "\n",
    "train.groupby('churn')['monthly_charges'].mean()"
   ]
  },
  {
   "cell_type": "code",
   "execution_count": 145,
   "metadata": {},
   "outputs": [
    {
     "data": {
      "text/plain": [
       "Text(0.5, 1.0, 'number of churn customers and their monthly charges')"
      ]
     },
     "execution_count": 145,
     "metadata": {},
     "output_type": "execute_result"
    },
    {
     "data": {
      "image/png": "[encoded data removed]",
      "text/plain": [
       "<Figure size 432x288 with 1 Axes>"
      ]
     },
     "metadata": {
      "needs_background": "light"
     },
     "output_type": "display_data"
    }
   ],
   "source": [
    "#saving the segment of those who churn into a variable and plotting a bar plot of it\n",
    "\n",
    "churn_sample = train[train.churn == 'Yes'].monthly_charges\n",
    "\n",
    "churn_sample.hist()\n",
    "\n",
    "plt.title('number of churn customers and their monthly charges')\n"
   ]
  },
  {
   "cell_type": "code",
   "execution_count": 144,
   "metadata": {},
   "outputs": [
    {
     "data": {
      "text/plain": [
       "Text(0.5, 1.0, 'number of no churn customers and their monthly charges')"
      ]
     },
     "execution_count": 144,
     "metadata": {},
     "output_type": "execute_result"
    },
    {
     "data": {
      "image/png": "[encoded data removed]",
      "text/plain": [
       "<Figure size 432x288 with 1 Axes>"
      ]
     },
     "metadata": {
      "needs_background": "light"
     },
     "output_type": "display_data"
    }
   ],
   "source": [
    "#saving the segment of those who did not churn into a variable and plotting a bar plot of it\n",
    "\n",
    "no_churn_sample = train[train.churn == 'No'].monthly_charges\n",
    "\n",
    "no_churn_sample.hist()\n",
    "\n",
    "plt.title('number of no churn customers and their monthly charges')\n"
   ]
  },
  {
   "cell_type": "code",
   "execution_count": 49,
   "metadata": {},
   "outputs": [],
   "source": [
    "#perfomring independent t test and saving the resulting t value and p value in their respective values seen in the two cells below\n",
    "\n",
    "t,p=stats.ttest_ind(churn_sample,no_churn_sample,equal_var=True)"
   ]
  },
  {
   "cell_type": "code",
   "execution_count": 50,
   "metadata": {},
   "outputs": [
    {
     "data": {
      "text/plain": [
       "12.470933594920119"
      ]
     },
     "execution_count": 50,
     "metadata": {},
     "output_type": "execute_result"
    }
   ],
   "source": [
    "t\n"
   ]
  },
  {
   "cell_type": "code",
   "execution_count": 51,
   "metadata": {},
   "outputs": [
    {
     "data": {
      "text/plain": [
       "4.430821858383039e-35"
      ]
     },
     "execution_count": 51,
     "metadata": {},
     "output_type": "execute_result"
    }
   ],
   "source": [
    "p"
   ]
  },
  {
   "cell_type": "code",
   "execution_count": 52,
   "metadata": {},
   "outputs": [
    {
     "name": "stdout",
     "output_type": "stream",
     "text": [
      "630.7938558007844\n",
      "975.186099094063\n"
     ]
    }
   ],
   "source": [
    "# confirming that the variances of the two are the same which they are not \n",
    "\n",
    "print(churn_sample.var())\n",
    "print(no_churn_sample.var())\n"
   ]
  },
  {
   "cell_type": "markdown",
   "metadata": {},
   "source": [
    "had to re do the ttest function and set the equal variance to false"
   ]
  },
  {
   "cell_type": "code",
   "execution_count": 53,
   "metadata": {},
   "outputs": [],
   "source": [
    "# redoing the steps above for same t test except with unequal variances \n",
    "\n",
    "t,p=stats.ttest_ind(churn_sample,no_churn_sample,equal_var=False)"
   ]
  },
  {
   "cell_type": "code",
   "execution_count": 54,
   "metadata": {},
   "outputs": [
    {
     "data": {
      "text/plain": [
       "13.796475652581572"
      ]
     },
     "execution_count": 54,
     "metadata": {},
     "output_type": "execute_result"
    }
   ],
   "source": [
    "t"
   ]
  },
  {
   "cell_type": "code",
   "execution_count": 55,
   "metadata": {},
   "outputs": [
    {
     "data": {
      "text/plain": [
       "9.41633723579986e-42"
      ]
     },
     "execution_count": 55,
     "metadata": {},
     "output_type": "execute_result"
    }
   ],
   "source": [
    "p"
   ]
  },
  {
   "cell_type": "markdown",
   "metadata": {},
   "source": [
    "# Question conclusion and takeaways\n",
    "\n",
    "- we reject the null hypothesis and conclude there is a significant relationship between higher average monthly payment and churn\n",
    "\n",
    "- monthly charges is a useful feature \n",
    "\n",
    "- after reviewing this it appears higher monthly cost is a driver for churn"
   ]
  },
  {
   "cell_type": "markdown",
   "metadata": {},
   "source": [
    "# Does any method of payment have a positive relationship with customer churn?"
   ]
  },
  {
   "cell_type": "code",
   "execution_count": 57,
   "metadata": {},
   "outputs": [
    {
     "data": {
      "text/html": [
       "<div>\n",
       "<style scoped>\n",
       "    .dataframe tbody tr th:only-of-type {\n",
       "        vertical-align: middle;\n",
       "    }\n",
       "\n",
       "    .dataframe tbody tr th {\n",
       "        vertical-align: top;\n",
       "    }\n",
       "\n",
       "    .dataframe thead th {\n",
       "        text-align: right;\n",
       "    }\n",
       "</style>\n",
       "<table border=\"1\" class=\"dataframe\">\n",
       "  <thead>\n",
       "    <tr style=\"text-align: right;\">\n",
       "      <th>churn</th>\n",
       "      <th>No</th>\n",
       "      <th>Yes</th>\n",
       "    </tr>\n",
       "    <tr>\n",
       "      <th>payment_type</th>\n",
       "      <th></th>\n",
       "      <th></th>\n",
       "    </tr>\n",
       "  </thead>\n",
       "  <tbody>\n",
       "    <tr>\n",
       "      <th>Bank transfer (automatic)</th>\n",
       "      <td>789</td>\n",
       "      <td>144</td>\n",
       "    </tr>\n",
       "    <tr>\n",
       "      <th>Credit card (automatic)</th>\n",
       "      <td>774</td>\n",
       "      <td>145</td>\n",
       "    </tr>\n",
       "    <tr>\n",
       "      <th>Electronic check</th>\n",
       "      <td>780</td>\n",
       "      <td>643</td>\n",
       "    </tr>\n",
       "    <tr>\n",
       "      <th>Mailed check</th>\n",
       "      <td>761</td>\n",
       "      <td>189</td>\n",
       "    </tr>\n",
       "  </tbody>\n",
       "</table>\n",
       "</div>"
      ],
      "text/plain": [
       "churn                       No  Yes\n",
       "payment_type                       \n",
       "Bank transfer (automatic)  789  144\n",
       "Credit card (automatic)    774  145\n",
       "Electronic check           780  643\n",
       "Mailed check               761  189"
      ]
     },
     "execution_count": 57,
     "metadata": {},
     "output_type": "execute_result"
    }
   ],
   "source": [
    "#creating a crosstab to evaluate payment types vs churn\n",
    "\n",
    "observed_pmt_type=pd.crosstab(train.payment_type,train.churn)\n",
    "observed_pmt_type"
   ]
  },
  {
   "cell_type": "code",
   "execution_count": 149,
   "metadata": {},
   "outputs": [
    {
     "data": {
      "text/plain": [
       "Text(0.5, 1.0, 'Payment types compaed by customers who churn/no churn')"
      ]
     },
     "execution_count": 149,
     "metadata": {},
     "output_type": "execute_result"
    },
    {
     "data": {
      "image/png": "[encoded data removed]",
      "text/plain": [
       "<Figure size 432x288 with 1 Axes>"
      ]
     },
     "metadata": {
      "needs_background": "light"
     },
     "output_type": "display_data"
    }
   ],
   "source": [
    "# creating a bar chart comparing payment types on the basis of churn vs no churn\n",
    "\n",
    "observed_pmt_type.plot.bar()\n",
    "plt.title('Payment types compaed by customers who churn/no churn')"
   ]
  },
  {
   "cell_type": "markdown",
   "metadata": {},
   "source": [
    "# H_0 there is no relationshnip and payment type is independennt of customer churn\n",
    "\n",
    "# H_a  there is a relationship bewteen electronic check payment method and customer churn"
   ]
  },
  {
   "cell_type": "code",
   "execution_count": 59,
   "metadata": {},
   "outputs": [],
   "source": [
    "# creating a crosstab to evaluate electronic check payment customers in relation to their churn status\n",
    "\n",
    "observed_e_check=pd.crosstab(train['payment_type_Electronic check'], train.churn)"
   ]
  },
  {
   "cell_type": "code",
   "execution_count": 60,
   "metadata": {},
   "outputs": [
    {
     "data": {
      "text/html": [
       "<div>\n",
       "<style scoped>\n",
       "    .dataframe tbody tr th:only-of-type {\n",
       "        vertical-align: middle;\n",
       "    }\n",
       "\n",
       "    .dataframe tbody tr th {\n",
       "        vertical-align: top;\n",
       "    }\n",
       "\n",
       "    .dataframe thead th {\n",
       "        text-align: right;\n",
       "    }\n",
       "</style>\n",
       "<table border=\"1\" class=\"dataframe\">\n",
       "  <thead>\n",
       "    <tr style=\"text-align: right;\">\n",
       "      <th>churn</th>\n",
       "      <th>No</th>\n",
       "      <th>Yes</th>\n",
       "    </tr>\n",
       "    <tr>\n",
       "      <th>payment_type_Electronic check</th>\n",
       "      <th></th>\n",
       "      <th></th>\n",
       "    </tr>\n",
       "  </thead>\n",
       "  <tbody>\n",
       "    <tr>\n",
       "      <th>0</th>\n",
       "      <td>2324</td>\n",
       "      <td>478</td>\n",
       "    </tr>\n",
       "    <tr>\n",
       "      <th>1</th>\n",
       "      <td>780</td>\n",
       "      <td>643</td>\n",
       "    </tr>\n",
       "  </tbody>\n",
       "</table>\n",
       "</div>"
      ],
      "text/plain": [
       "churn                            No  Yes\n",
       "payment_type_Electronic check           \n",
       "0                              2324  478\n",
       "1                               780  643"
      ]
     },
     "execution_count": 60,
     "metadata": {},
     "output_type": "execute_result"
    }
   ],
   "source": [
    "observed_e_check"
   ]
  },
  {
   "cell_type": "code",
   "execution_count": 61,
   "metadata": {},
   "outputs": [],
   "source": [
    "#here I am using this function to calculate the Chi^2 p value, degrees of freedom, and expected values then saving them each individually to a corresponding variable\n",
    "\n",
    "chi2_e_check,p_e_check,degf_e_check,expected_e_check = stats.chi2_contingency(observed_e_check)"
   ]
  },
  {
   "cell_type": "code",
   "execution_count": 62,
   "metadata": {},
   "outputs": [
    {
     "data": {
      "text/plain": [
       "381.57600369890343"
      ]
     },
     "execution_count": 62,
     "metadata": {},
     "output_type": "execute_result"
    }
   ],
   "source": [
    "#chi^2 value\n",
    "\n",
    "chi2_e_check"
   ]
  },
  {
   "cell_type": "code",
   "execution_count": 63,
   "metadata": {},
   "outputs": [
    {
     "data": {
      "text/plain": [
       "5.647318991682941e-85"
      ]
     },
     "execution_count": 63,
     "metadata": {},
     "output_type": "execute_result"
    }
   ],
   "source": [
    "\n",
    "#p-value\n",
    "\n",
    "p_e_check"
   ]
  },
  {
   "cell_type": "code",
   "execution_count": 64,
   "metadata": {},
   "outputs": [
    {
     "data": {
      "text/plain": [
       "1"
      ]
     },
     "execution_count": 64,
     "metadata": {},
     "output_type": "execute_result"
    }
   ],
   "source": [
    "#degrees of freedom\n",
    "\n",
    "degf_e_check"
   ]
  },
  {
   "cell_type": "code",
   "execution_count": 65,
   "metadata": {},
   "outputs": [
    {
     "data": {
      "text/plain": [
       "array([[2058.55810651,  743.44189349],\n",
       "       [1045.44189349,  377.55810651]])"
      ]
     },
     "execution_count": 65,
     "metadata": {},
     "output_type": "execute_result"
    }
   ],
   "source": [
    "#expected values\n",
    "\n",
    "expected_e_check"
   ]
  },
  {
   "cell_type": "code",
   "execution_count": 66,
   "metadata": {},
   "outputs": [
    {
     "name": "stdout",
     "output_type": "stream",
     "text": [
      "Observed\n",
      "\n",
      "churn                            No  Yes\n",
      "payment_type_Electronic check           \n",
      "0                              2324  478\n",
      "1                               780  643\n",
      "---\n",
      "Expected\n",
      "\n",
      "[[2058.55810651  743.44189349]\n",
      " [1045.44189349  377.55810651]]\n",
      "---\n",
      "\n",
      "chi^2 = 381.5760\n",
      "p     = 0.0000\n"
     ]
    }
   ],
   "source": [
    "# summary print statement showing the results of the tests above all in one place\n",
    "\n",
    "print('Observed\\n')\n",
    "print(observed_e_check)\n",
    "print('---\\nExpected\\n')\n",
    "print(expected_e_check)\n",
    "print('---\\n')\n",
    "print(f'chi^2 = {chi2_e_check:.4f}')\n",
    "print(f'p     = {p_e_check:.4f}')"
   ]
  },
  {
   "cell_type": "markdown",
   "metadata": {},
   "source": [
    "# Question conclusion and takeaways\n",
    "\n",
    "- we reject the null hypothesis and conclude there is a statistically significant relationship between paying by electronic check and churn\n",
    "\n",
    "- electronic check seems to have the highest predication to churn\n",
    "\n",
    "- electronic check payment status is a useful feature"
   ]
  },
  {
   "cell_type": "markdown",
   "metadata": {},
   "source": [
    "# Exploratory analysis brief\n",
    "\n",
    "- After exploration of the data and answering my questions above I decided to use internet service types, monthly charges, and payment and contract types to use as my key features when moving forward constructing my models.\n",
    "Each and every one of the features I mentioned I substantiated through apropiate statistical testing methods. When evaluating the different internet service subscripions ( or lack thereof), payment types, and average monthly charges each statistcal test yielded an almost perfectly zero p- value. what this means in lay terms that the results are almost impossible to be due to chance, but rather confirmed the relationships of the features as being driver of churn. Based on what I learned I am therefore removing any features that I was not able to show a relationship to churn to reduce \"noise\", possible redundancies or confounding variables."
   ]
  },
  {
   "cell_type": "markdown",
   "metadata": {},
   "source": [
    "# Baseline Accuracy\n",
    "\n",
    "- 73.46% of the customers are catagorized as no churn. Therefore if I predict every time that the customer will not churn I will get it right 73.46% of the time"
   ]
  },
  {
   "cell_type": "code",
   "execution_count": 67,
   "metadata": {},
   "outputs": [
    {
     "data": {
      "text/plain": [
       "No     3104\n",
       "Yes    1121\n",
       "Name: churn, dtype: int64"
      ]
     },
     "execution_count": 67,
     "metadata": {},
     "output_type": "execute_result"
    }
   ],
   "source": [
    "#calcuating the mode\n",
    "\n",
    "train.churn.value_counts()"
   ]
  },
  {
   "cell_type": "code",
   "execution_count": 68,
   "metadata": {},
   "outputs": [],
   "source": [
    "baseline=((train.churn=='No').sum())/len(train.churn)"
   ]
  },
  {
   "cell_type": "code",
   "execution_count": 69,
   "metadata": {},
   "outputs": [
    {
     "data": {
      "text/plain": [
       "73.46745562130178"
      ]
     },
     "execution_count": 69,
     "metadata": {},
     "output_type": "execute_result"
    }
   ],
   "source": [
    "baseline=baseline * 100\n",
    "baseline"
   ]
  },
  {
   "cell_type": "markdown",
   "metadata": {},
   "source": [
    "### My baseline accuracy is 73.46%"
   ]
  },
  {
   "cell_type": "code",
   "execution_count": 71,
   "metadata": {},
   "outputs": [],
   "source": [
    "# Define y train, val, and test datasets. (Target variable is churn)\n",
    "\n",
    "X_train = train.drop(columns=['churn'])\n",
    "y_train = train.churn\n",
    "\n",
    "X_validate = validate.drop(columns=['churn'])\n",
    "y_validate = validate.churn\n",
    "\n",
    "X_test = test.drop(columns=['churn'])\n",
    "y_test = test.churn"
   ]
  },
  {
   "cell_type": "code",
   "execution_count": 72,
   "metadata": {},
   "outputs": [],
   "source": [
    "#these are the features from the data that I will feed into my models\n",
    "\n",
    "features=['payment_type_Mailed check', 'payment_type_Electronic check','payment_type_Credit card (automatic)','internet_service_type_Fiber optic','internet_service_type_None','contract_type_One year','contract_type_Two year','monthly_charges']"
   ]
  },
  {
   "cell_type": "markdown",
   "metadata": {},
   "source": [
    "## MVP models\n",
    "\n",
    "- I am going with random forest, K nearest neighbors, and Logistic regression model classifiers\n",
    "\n",
    "- I am using the features listed in the cell above for each model.\n",
    "\n",
    "\n"
   ]
  },
  {
   "cell_type": "markdown",
   "metadata": {},
   "source": [
    "# random forest model"
   ]
  },
  {
   "cell_type": "code",
   "execution_count": 73,
   "metadata": {},
   "outputs": [],
   "source": [
    "#imports needed in order to run the models\n",
    "\n",
    "from sklearn.ensemble import RandomForestClassifier\n",
    "from sklearn.metrics import classification_report\n",
    "from sklearn.metrics import confusion_matrix"
   ]
  },
  {
   "cell_type": "code",
   "execution_count": 74,
   "metadata": {},
   "outputs": [],
   "source": [
    "#creatnig model\n",
    "rf=RandomForestClassifier(max_depth=3, min_samples_leaf=3, random_state=123)"
   ]
  },
  {
   "cell_type": "code",
   "execution_count": 75,
   "metadata": {},
   "outputs": [
    {
     "data": {
      "text/plain": [
       "RandomForestClassifier(max_depth=3, min_samples_leaf=3, random_state=123)"
      ]
     },
     "execution_count": 75,
     "metadata": {},
     "output_type": "execute_result"
    }
   ],
   "source": [
    "# fitting model\n",
    "\n",
    "rf.fit(X_train[features],y_train)"
   ]
  },
  {
   "cell_type": "code",
   "execution_count": 76,
   "metadata": {},
   "outputs": [
    {
     "name": "stdout",
     "output_type": "stream",
     "text": [
      "[0.00339132 0.19651786 0.01709515 0.21274578 0.08418274 0.12503557\n",
      " 0.23640915 0.12462243]\n"
     ]
    }
   ],
   "source": [
    "print(rf.feature_importances_)"
   ]
  },
  {
   "cell_type": "code",
   "execution_count": 77,
   "metadata": {},
   "outputs": [],
   "source": [
    "y_pred_rf= rf.predict(X_train[features])"
   ]
  },
  {
   "cell_type": "code",
   "execution_count": 78,
   "metadata": {},
   "outputs": [],
   "source": [
    "y_pred_proba_rf=rf.predict_proba(X_train[features])"
   ]
  },
  {
   "cell_type": "code",
   "execution_count": 79,
   "metadata": {},
   "outputs": [
    {
     "name": "stdout",
     "output_type": "stream",
     "text": [
      "Accuracy of random forest classifier on training set: 0.77\n"
     ]
    }
   ],
   "source": [
    "print('Accuracy of random forest classifier on training set: {:.2f}'\n",
    "     .format(rf.score(X_train[features], y_train)))\n"
   ]
  },
  {
   "cell_type": "code",
   "execution_count": 80,
   "metadata": {},
   "outputs": [
    {
     "name": "stdout",
     "output_type": "stream",
     "text": [
      "[[2847  257]\n",
      " [ 695  426]]\n"
     ]
    }
   ],
   "source": [
    "print(confusion_matrix(y_train, y_pred_rf))\n"
   ]
  },
  {
   "cell_type": "code",
   "execution_count": 81,
   "metadata": {},
   "outputs": [
    {
     "name": "stdout",
     "output_type": "stream",
     "text": [
      "              precision    recall  f1-score   support\n",
      "\n",
      "          No       0.80      0.92      0.86      3104\n",
      "         Yes       0.62      0.38      0.47      1121\n",
      "\n",
      "    accuracy                           0.77      4225\n",
      "   macro avg       0.71      0.65      0.66      4225\n",
      "weighted avg       0.76      0.77      0.75      4225\n",
      "\n"
     ]
    }
   ],
   "source": [
    "print(classification_report(y_train, y_pred_rf))\n"
   ]
  },
  {
   "cell_type": "markdown",
   "metadata": {},
   "source": [
    "# logistic regression model\n"
   ]
  },
  {
   "cell_type": "code",
   "execution_count": 82,
   "metadata": {},
   "outputs": [],
   "source": [
    "from sklearn.linear_model import LogisticRegression\n",
    "\n",
    "logit = LogisticRegression(random_state=123)\n"
   ]
  },
  {
   "cell_type": "code",
   "execution_count": 84,
   "metadata": {},
   "outputs": [
    {
     "data": {
      "text/plain": [
       "LogisticRegression(random_state=123)"
      ]
     },
     "execution_count": 84,
     "metadata": {},
     "output_type": "execute_result"
    }
   ],
   "source": [
    "\n",
    "logit.fit(X_train[features], y_train)\n"
   ]
  },
  {
   "cell_type": "code",
   "execution_count": 85,
   "metadata": {},
   "outputs": [
    {
     "name": "stdout",
     "output_type": "stream",
     "text": [
      "Coefficient: \n",
      " [[ 0.30385884  0.70568176  0.05288249  1.27258726 -1.05701566 -1.40978345\n",
      "  -2.32782842 -0.01156295]]\n",
      "Intercept: \n",
      " [-0.54218126]\n"
     ]
    }
   ],
   "source": [
    "print('Coefficient: \\n', logit.coef_)\n",
    "print('Intercept: \\n', logit.intercept_)\n"
   ]
  },
  {
   "cell_type": "code",
   "execution_count": 86,
   "metadata": {},
   "outputs": [],
   "source": [
    "y_pred_lr = logit.predict(X_train[features])\n"
   ]
  },
  {
   "cell_type": "code",
   "execution_count": 87,
   "metadata": {},
   "outputs": [],
   "source": [
    "y_pred_proba_lr = logit.predict_proba(X_train[features])\n"
   ]
  },
  {
   "cell_type": "code",
   "execution_count": 88,
   "metadata": {},
   "outputs": [
    {
     "name": "stdout",
     "output_type": "stream",
     "text": [
      "Accuracy of Logistic Regression classifier on training set: 0.77\n"
     ]
    }
   ],
   "source": [
    "print('Accuracy of Logistic Regression classifier on training set: {:.2f}'\n",
    "     .format(logit.score(X_train[features], y_train)))\n"
   ]
  },
  {
   "cell_type": "code",
   "execution_count": 89,
   "metadata": {},
   "outputs": [
    {
     "name": "stdout",
     "output_type": "stream",
     "text": [
      "[[2751  353]\n",
      " [ 608  513]]\n"
     ]
    }
   ],
   "source": [
    "print(confusion_matrix(y_train, y_pred_lr))\n"
   ]
  },
  {
   "cell_type": "code",
   "execution_count": 90,
   "metadata": {},
   "outputs": [
    {
     "name": "stdout",
     "output_type": "stream",
     "text": [
      "              precision    recall  f1-score   support\n",
      "\n",
      "          No       0.82      0.89      0.85      3104\n",
      "         Yes       0.59      0.46      0.52      1121\n",
      "\n",
      "    accuracy                           0.77      4225\n",
      "   macro avg       0.71      0.67      0.68      4225\n",
      "weighted avg       0.76      0.77      0.76      4225\n",
      "\n"
     ]
    }
   ],
   "source": [
    "print(classification_report(y_train, y_pred_lr))\n"
   ]
  },
  {
   "cell_type": "markdown",
   "metadata": {},
   "source": [
    "# K nearest neighbors model"
   ]
  },
  {
   "cell_type": "code",
   "execution_count": 91,
   "metadata": {},
   "outputs": [],
   "source": [
    "from sklearn.neighbors import KNeighborsClassifier"
   ]
  },
  {
   "cell_type": "code",
   "execution_count": 92,
   "metadata": {},
   "outputs": [],
   "source": [
    "\n",
    "knn = KNeighborsClassifier(n_neighbors=8, weights='uniform')\n"
   ]
  },
  {
   "cell_type": "code",
   "execution_count": 93,
   "metadata": {},
   "outputs": [
    {
     "data": {
      "text/plain": [
       "KNeighborsClassifier(n_neighbors=8)"
      ]
     },
     "execution_count": 93,
     "metadata": {},
     "output_type": "execute_result"
    }
   ],
   "source": [
    "knn.fit(X_train[features], y_train)\n"
   ]
  },
  {
   "cell_type": "code",
   "execution_count": 94,
   "metadata": {},
   "outputs": [],
   "source": [
    "y_pred_knn = knn.predict(X_train[features])\n"
   ]
  },
  {
   "cell_type": "code",
   "execution_count": 95,
   "metadata": {},
   "outputs": [],
   "source": [
    "y_pred_proba_knn = knn.predict_proba(X_train[features])\n"
   ]
  },
  {
   "cell_type": "code",
   "execution_count": 96,
   "metadata": {},
   "outputs": [
    {
     "name": "stdout",
     "output_type": "stream",
     "text": [
      "Accuracy of KNN classifier on training set: 0.80\n"
     ]
    }
   ],
   "source": [
    "print('Accuracy of KNN classifier on training set: {:.2f}'\n",
    "     .format(knn.score(X_train[features], y_train)))\n"
   ]
  },
  {
   "cell_type": "code",
   "execution_count": 97,
   "metadata": {},
   "outputs": [
    {
     "name": "stdout",
     "output_type": "stream",
     "text": [
      "[[2907  197]\n",
      " [ 650  471]]\n"
     ]
    }
   ],
   "source": [
    "print(confusion_matrix(y_train, y_pred_knn))\n"
   ]
  },
  {
   "cell_type": "code",
   "execution_count": 98,
   "metadata": {},
   "outputs": [
    {
     "name": "stdout",
     "output_type": "stream",
     "text": [
      "              precision    recall  f1-score   support\n",
      "\n",
      "          No       0.82      0.94      0.87      3104\n",
      "         Yes       0.71      0.42      0.53      1121\n",
      "\n",
      "    accuracy                           0.80      4225\n",
      "   macro avg       0.76      0.68      0.70      4225\n",
      "weighted avg       0.79      0.80      0.78      4225\n",
      "\n"
     ]
    }
   ],
   "source": [
    "print(classification_report(y_train, y_pred_knn))\n"
   ]
  },
  {
   "cell_type": "markdown",
   "metadata": {},
   "source": [
    "MVP"
   ]
  },
  {
   "cell_type": "markdown",
   "metadata": {},
   "source": [
    "# Evaluate 3 models on out of sample data"
   ]
  },
  {
   "cell_type": "markdown",
   "metadata": {},
   "source": [
    "# random forest model train vs validate"
   ]
  },
  {
   "cell_type": "code",
   "execution_count": 99,
   "metadata": {},
   "outputs": [],
   "source": [
    "# have to do a new y prediction for my validate sample in order to create a classification report\n",
    "\n",
    "y_pred_rf_validate = rf.predict(X_validate[features])"
   ]
  },
  {
   "cell_type": "code",
   "execution_count": 100,
   "metadata": {},
   "outputs": [
    {
     "name": "stdout",
     "output_type": "stream",
     "text": [
      "              precision    recall  f1-score   support\n",
      "\n",
      "          No       0.80      0.92      0.86      3104\n",
      "         Yes       0.62      0.38      0.47      1121\n",
      "\n",
      "    accuracy                           0.77      4225\n",
      "   macro avg       0.71      0.65      0.66      4225\n",
      "weighted avg       0.76      0.77      0.75      4225\n",
      "\n",
      "Accuracy of baseline model is: 73.47%\n",
      "              precision    recall  f1-score   support\n",
      "\n",
      "          No       0.80      0.91      0.85      1035\n",
      "         Yes       0.59      0.36      0.45       374\n",
      "\n",
      "    accuracy                           0.76      1409\n",
      "   macro avg       0.69      0.64      0.65      1409\n",
      "weighted avg       0.74      0.76      0.74      1409\n",
      "\n"
     ]
    }
   ],
   "source": [
    "# print statemnt showcasing outputs all in one spot\n",
    "\n",
    "print(classification_report(y_train, y_pred_rf))\n",
    "\n",
    "\n",
    "\n",
    "print('Accuracy of baseline model is: {:.2f}%'\n",
    "     .format(baseline))\n",
    "\n",
    "\n",
    "print(classification_report(y_validate, y_pred_rf_validate))"
   ]
  },
  {
   "cell_type": "code",
   "execution_count": 101,
   "metadata": {},
   "outputs": [
    {
     "name": "stdout",
     "output_type": "stream",
     "text": [
      "Accuracy of baseline model is: 73.47%\n",
      "Accuracy of random forest classifier on train set: 0.77\n",
      "Accuracy of random forest classifier on validate set: 0.76\n"
     ]
    }
   ],
   "source": [
    "# print statemnt showcasing outputs all in one spot\n",
    "\n",
    "print('Accuracy of baseline model is: {:.2f}%'\n",
    "     .format(baseline))\n",
    "\n",
    "\n",
    "\n",
    "print('Accuracy of random forest classifier on train set: {:.2f}'\n",
    "     .format(rf.score(X_train[features], y_train)))\n",
    "\n",
    "\n",
    "\n",
    "print('Accuracy of random forest classifier on validate set: {:.2f}'\n",
    "     .format(rf.score(X_validate[features], y_validate)))\n"
   ]
  },
  {
   "cell_type": "markdown",
   "metadata": {},
   "source": [
    "\n",
    "# Logistic Regression model train vs validate"
   ]
  },
  {
   "cell_type": "code",
   "execution_count": 102,
   "metadata": {},
   "outputs": [],
   "source": [
    "# have to do a new y prediction for my validate sample in order to create a classification report\n",
    "\n",
    "y_pred_lr_validate = logit.predict(X_validate[features])"
   ]
  },
  {
   "cell_type": "code",
   "execution_count": 103,
   "metadata": {},
   "outputs": [
    {
     "name": "stdout",
     "output_type": "stream",
     "text": [
      "              precision    recall  f1-score   support\n",
      "\n",
      "          No       0.82      0.89      0.85      3104\n",
      "         Yes       0.59      0.46      0.52      1121\n",
      "\n",
      "    accuracy                           0.77      4225\n",
      "   macro avg       0.71      0.67      0.68      4225\n",
      "weighted avg       0.76      0.77      0.76      4225\n",
      "\n",
      "Accuracy of baseline model is: 73.47%\n",
      "              precision    recall  f1-score   support\n",
      "\n",
      "          No       0.82      0.88      0.85      1035\n",
      "         Yes       0.58      0.45      0.51       374\n",
      "\n",
      "    accuracy                           0.77      1409\n",
      "   macro avg       0.70      0.67      0.68      1409\n",
      "weighted avg       0.75      0.77      0.76      1409\n",
      "\n"
     ]
    }
   ],
   "source": [
    "print(classification_report(y_train, y_pred_lr))\n",
    "\n",
    "print('Accuracy of baseline model is: {:.2f}%'\n",
    "     .format(baseline))\n",
    "\n",
    "print(classification_report(y_validate, y_pred_lr_validate))"
   ]
  },
  {
   "cell_type": "code",
   "execution_count": 104,
   "metadata": {},
   "outputs": [
    {
     "name": "stdout",
     "output_type": "stream",
     "text": [
      "Accuracy of baseline model is: 73.47%\n",
      "Accuracy of logistic regression classifier on train set: 0.77\n",
      "Accuracy of logistic regression classifier on validate set: 0.77\n"
     ]
    }
   ],
   "source": [
    "\n",
    "print('Accuracy of baseline model is: {:.2f}%'\n",
    "     .format(baseline))\n",
    "\n",
    "\n",
    "\n",
    "print('Accuracy of logistic regression classifier on train set: {:.2f}'\n",
    "     .format(logit.score(X_train[features], y_train)))\n",
    "\n",
    "\n",
    "\n",
    "print('Accuracy of logistic regression classifier on validate set: {:.2f}'\n",
    "     .format(logit.score(X_validate[features], y_validate)))\n"
   ]
  },
  {
   "cell_type": "markdown",
   "metadata": {},
   "source": [
    "# K nearest neighbors model train vs validate"
   ]
  },
  {
   "cell_type": "code",
   "execution_count": 105,
   "metadata": {},
   "outputs": [],
   "source": [
    "# have to do a new y prediction for my validate sample in order to create a classification report\n",
    "\n",
    "y_pred_knn_validate = knn.predict(X_validate[features])"
   ]
  },
  {
   "cell_type": "code",
   "execution_count": 106,
   "metadata": {},
   "outputs": [
    {
     "name": "stdout",
     "output_type": "stream",
     "text": [
      "              precision    recall  f1-score   support\n",
      "\n",
      "          No       0.82      0.94      0.87      3104\n",
      "         Yes       0.71      0.42      0.53      1121\n",
      "\n",
      "    accuracy                           0.80      4225\n",
      "   macro avg       0.76      0.68      0.70      4225\n",
      "weighted avg       0.79      0.80      0.78      4225\n",
      "\n",
      "Accuracy of baseline model is: 73.47%\n",
      "              precision    recall  f1-score   support\n",
      "\n",
      "          No       0.79      0.89      0.84      1035\n",
      "         Yes       0.55      0.36      0.44       374\n",
      "\n",
      "    accuracy                           0.75      1409\n",
      "   macro avg       0.67      0.63      0.64      1409\n",
      "weighted avg       0.73      0.75      0.73      1409\n",
      "\n"
     ]
    }
   ],
   "source": [
    "# print statemnt showcasing outputs all in one spot\n",
    "\n",
    "print(classification_report(y_train, y_pred_knn))\n",
    "\n",
    "print('Accuracy of baseline model is: {:.2f}%'\n",
    "     .format(baseline))\n",
    "\n",
    "print(classification_report(y_validate, y_pred_knn_validate))"
   ]
  },
  {
   "cell_type": "code",
   "execution_count": 107,
   "metadata": {},
   "outputs": [
    {
     "name": "stdout",
     "output_type": "stream",
     "text": [
      "Accuracy of baseline model is: 73.47%\n",
      "Accuracy of KNN classifier on train set: 0.80\n",
      "Accuracy of KNN classifier on validate set: 0.75\n"
     ]
    }
   ],
   "source": [
    "\n",
    "print('Accuracy of baseline model is: {:.2f}%'\n",
    "     .format(baseline))\n",
    "\n",
    "\n",
    "\n",
    "print('Accuracy of KNN classifier on train set: {:.2f}'\n",
    "     .format(knn.score(X_train[features], y_train)))\n",
    "\n",
    "\n",
    "print('Accuracy of KNN classifier on validate set: {:.2f}'\n",
    "     .format(knn.score(X_validate[features], y_validate)))\n"
   ]
  },
  {
   "cell_type": "markdown",
   "metadata": {},
   "source": [
    "# MVP Models summary and  evaluation metrics for best model\n",
    "\n",
    "## As with most I started with the baseline accuracy comparison (73.47%) and compared and initially KNN stood out with .80 while the other two models were .77. once  I took my top 3 and ran them on validate data set the KNN dropped to .75 and the other two practially stayed in exact same spot. The disparity in train vs validate for KNN made me shy away from selecting it due to overfitting concerns. Due to the nature of the problem we are trying to solve with Telco data recall score is the most important and I went on to use it as a tie breaker. Logistic regression model not only had a significantly higher recall, but there was no change from train to validate recall either.  this confirmed my decision to move forward to test data set with my logistic regression model."
   ]
  },
  {
   "cell_type": "code",
   "execution_count": 108,
   "metadata": {},
   "outputs": [],
   "source": [
    "# have to do a new y prediction for my validate sample in order to create a classification report\n",
    "\n",
    "y_pred_lr_test = logit.predict(X_test[features])"
   ]
  },
  {
   "cell_type": "code",
   "execution_count": 150,
   "metadata": {},
   "outputs": [
    {
     "name": "stdout",
     "output_type": "stream",
     "text": [
      "Accuracy of baseline model is: 73.47%\n",
      "Accuracy of logistic regression classifier on train set: 0.77\n",
      "Accuracy of logistic regression classifier on validate set: 0.77\n",
      "Accuracy of logistic regression classifier on validate set: 0.78\n"
     ]
    }
   ],
   "source": [
    "# print statemnt showcasing outputs all in one spot\n",
    "\n",
    "print('Accuracy of baseline model is: {:.2f}%'\n",
    "     .format(baseline))\n",
    "\n",
    "\n",
    "\n",
    "print('Accuracy of logistic regression classifier on train set: {:.2f}'\n",
    "     .format(logit.score(X_train[features], y_train)))\n",
    "\n",
    "\n",
    "\n",
    "print('Accuracy of logistic regression classifier on validate set: {:.2f}'\n",
    "     .format(logit.score(X_validate[features], y_validate)))\n",
    "\n",
    "\n",
    "\n",
    "print('Accuracy of logistic regression classifier on validate set: {:.2f}'\n",
    "     .format(logit.score(X_test[features], y_test)))"
   ]
  },
  {
   "cell_type": "code",
   "execution_count": 110,
   "metadata": {},
   "outputs": [
    {
     "name": "stdout",
     "output_type": "stream",
     "text": [
      "Accuracy of baseline model is: 73.47%\n",
      "              precision    recall  f1-score   support\n",
      "\n",
      "          No       0.82      0.89      0.85      3104\n",
      "         Yes       0.59      0.46      0.52      1121\n",
      "\n",
      "    accuracy                           0.77      4225\n",
      "   macro avg       0.71      0.67      0.68      4225\n",
      "weighted avg       0.76      0.77      0.76      4225\n",
      "\n",
      "              precision    recall  f1-score   support\n",
      "\n",
      "          No       0.82      0.88      0.85      1035\n",
      "         Yes       0.58      0.45      0.51       374\n",
      "\n",
      "    accuracy                           0.77      1409\n",
      "   macro avg       0.70      0.67      0.68      1409\n",
      "weighted avg       0.75      0.77      0.76      1409\n",
      "\n",
      "              precision    recall  f1-score   support\n",
      "\n",
      "          No       0.83      0.89      0.86      1035\n",
      "         Yes       0.61      0.49      0.54       374\n",
      "\n",
      "    accuracy                           0.78      1409\n",
      "   macro avg       0.72      0.69      0.70      1409\n",
      "weighted avg       0.77      0.78      0.77      1409\n",
      "\n"
     ]
    }
   ],
   "source": [
    "print('Accuracy of baseline model is: {:.2f}%'\n",
    "     .format(baseline))\n",
    "\n",
    "\n",
    "print(classification_report(y_train, y_pred_lr))\n",
    "\n",
    "\n",
    "\n",
    "print(classification_report(y_validate, y_pred_lr_validate))\n",
    "\n",
    "\n",
    "\n",
    "\n",
    "print(classification_report(y_test, y_pred_lr_test))\n",
    "\n"
   ]
  },
  {
   "cell_type": "markdown",
   "metadata": {},
   "source": [
    "# Top model on test data conclusion\n",
    "\n",
    "- my top model actually improved both accuracy and recall on the test set of data. \n",
    "\n",
    "- my best model had the least variance between all data sets\n",
    "\n"
   ]
  },
  {
   "cell_type": "markdown",
   "metadata": {},
   "source": [
    "# predictions CSV\n",
    "\n",
    "- columns contain probability of class, prediction of churn (1=churn, 0=not_churn)"
   ]
  },
  {
   "cell_type": "code",
   "execution_count": 111,
   "metadata": {},
   "outputs": [],
   "source": [
    "# getting the values needed to concat for CSV\n",
    "\n",
    "y_pred_proba_lr_test= logit.predict_proba(X_test[features])"
   ]
  },
  {
   "cell_type": "code",
   "execution_count": 160,
   "metadata": {},
   "outputs": [
    {
     "data": {
      "text/plain": [
       "0       0.186073\n",
       "1       0.024340\n",
       "2       0.580656\n",
       "3       0.553840\n",
       "4       0.600781\n",
       "          ...   \n",
       "1404    0.327413\n",
       "1405    0.317183\n",
       "1406    0.014442\n",
       "1407    0.036887\n",
       "1408    0.639702\n",
       "Name: 1, Length: 1409, dtype: float64"
      ]
     },
     "execution_count": 160,
     "metadata": {},
     "output_type": "execute_result"
    }
   ],
   "source": [
    "# getting more values for predictions csv\n",
    "\n",
    "final_test_y_pred=y_pred_proba_lr_test_df[1]\n",
    "final_test_y_pred\n"
   ]
  },
  {
   "cell_type": "code",
   "execution_count": 114,
   "metadata": {},
   "outputs": [],
   "source": [
    "#reading into a DataFrame\n",
    "\n",
    "y_pred_lr_test_df=pd.DataFrame(y_pred_lr_test)"
   ]
  },
  {
   "cell_type": "code",
   "execution_count": 115,
   "metadata": {},
   "outputs": [
    {
     "data": {
      "text/html": [
       "<div>\n",
       "<style scoped>\n",
       "    .dataframe tbody tr th:only-of-type {\n",
       "        vertical-align: middle;\n",
       "    }\n",
       "\n",
       "    .dataframe tbody tr th {\n",
       "        vertical-align: top;\n",
       "    }\n",
       "\n",
       "    .dataframe thead th {\n",
       "        text-align: right;\n",
       "    }\n",
       "</style>\n",
       "<table border=\"1\" class=\"dataframe\">\n",
       "  <thead>\n",
       "    <tr style=\"text-align: right;\">\n",
       "      <th></th>\n",
       "      <th>0</th>\n",
       "    </tr>\n",
       "  </thead>\n",
       "  <tbody>\n",
       "    <tr>\n",
       "      <th>0</th>\n",
       "      <td>0</td>\n",
       "    </tr>\n",
       "    <tr>\n",
       "      <th>1</th>\n",
       "      <td>0</td>\n",
       "    </tr>\n",
       "    <tr>\n",
       "      <th>2</th>\n",
       "      <td>1</td>\n",
       "    </tr>\n",
       "    <tr>\n",
       "      <th>3</th>\n",
       "      <td>1</td>\n",
       "    </tr>\n",
       "    <tr>\n",
       "      <th>4</th>\n",
       "      <td>1</td>\n",
       "    </tr>\n",
       "    <tr>\n",
       "      <th>...</th>\n",
       "      <td>...</td>\n",
       "    </tr>\n",
       "    <tr>\n",
       "      <th>1404</th>\n",
       "      <td>0</td>\n",
       "    </tr>\n",
       "    <tr>\n",
       "      <th>1405</th>\n",
       "      <td>0</td>\n",
       "    </tr>\n",
       "    <tr>\n",
       "      <th>1406</th>\n",
       "      <td>0</td>\n",
       "    </tr>\n",
       "    <tr>\n",
       "      <th>1407</th>\n",
       "      <td>0</td>\n",
       "    </tr>\n",
       "    <tr>\n",
       "      <th>1408</th>\n",
       "      <td>1</td>\n",
       "    </tr>\n",
       "  </tbody>\n",
       "</table>\n",
       "<p>1409 rows × 1 columns</p>\n",
       "</div>"
      ],
      "text/plain": [
       "      0\n",
       "0     0\n",
       "1     0\n",
       "2     1\n",
       "3     1\n",
       "4     1\n",
       "...  ..\n",
       "1404  0\n",
       "1405  0\n",
       "1406  0\n",
       "1407  0\n",
       "1408  1\n",
       "\n",
       "[1409 rows x 1 columns]"
      ]
     },
     "execution_count": 115,
     "metadata": {},
     "output_type": "execute_result"
    }
   ],
   "source": [
    "#changing yes and no values to 1 and 0 respectively \n",
    "\n",
    "y_pred_final_test=y_pred_lr_test_df.replace('Yes',1).replace('No',0)\n",
    "y_pred_final_test"
   ]
  },
  {
   "cell_type": "code",
   "execution_count": 116,
   "metadata": {},
   "outputs": [],
   "source": [
    "#concat it all together\n",
    "X_test1=X_test[['customer_id']].reset_index().drop(columns='index')\n",
    "\n",
    "final_output=pd.concat([X_test1['customer_id'],final_test_y_pred, y_pred_final_test],ignore_index=True, axis=1)\n",
    "\n",
    "\n"
   ]
  },
  {
   "cell_type": "code",
   "execution_count": 117,
   "metadata": {},
   "outputs": [],
   "source": [
    "#adding proper names to columns\n",
    "final_output.columns=['customer_id','churn_probability','churn_prediction']"
   ]
  },
  {
   "cell_type": "code",
   "execution_count": 147,
   "metadata": {},
   "outputs": [
    {
     "data": {
      "text/html": [
       "<div>\n",
       "<style scoped>\n",
       "    .dataframe tbody tr th:only-of-type {\n",
       "        vertical-align: middle;\n",
       "    }\n",
       "\n",
       "    .dataframe tbody tr th {\n",
       "        vertical-align: top;\n",
       "    }\n",
       "\n",
       "    .dataframe thead th {\n",
       "        text-align: right;\n",
       "    }\n",
       "</style>\n",
       "<table border=\"1\" class=\"dataframe\">\n",
       "  <thead>\n",
       "    <tr style=\"text-align: right;\">\n",
       "      <th></th>\n",
       "      <th>customer_id</th>\n",
       "      <th>churn_probability</th>\n",
       "      <th>churn_prediction</th>\n",
       "    </tr>\n",
       "  </thead>\n",
       "  <tbody>\n",
       "    <tr>\n",
       "      <th>0</th>\n",
       "      <td>4531-AUZNK</td>\n",
       "      <td>0.186073</td>\n",
       "      <td>0</td>\n",
       "    </tr>\n",
       "    <tr>\n",
       "      <th>1</th>\n",
       "      <td>2296-DKZFP</td>\n",
       "      <td>0.024340</td>\n",
       "      <td>0</td>\n",
       "    </tr>\n",
       "    <tr>\n",
       "      <th>2</th>\n",
       "      <td>9692-TUSXH</td>\n",
       "      <td>0.580656</td>\n",
       "      <td>1</td>\n",
       "    </tr>\n",
       "    <tr>\n",
       "      <th>3</th>\n",
       "      <td>5129-JLPIS</td>\n",
       "      <td>0.553840</td>\n",
       "      <td>1</td>\n",
       "    </tr>\n",
       "    <tr>\n",
       "      <th>4</th>\n",
       "      <td>1273-MTETI</td>\n",
       "      <td>0.600781</td>\n",
       "      <td>1</td>\n",
       "    </tr>\n",
       "  </tbody>\n",
       "</table>\n",
       "</div>"
      ],
      "text/plain": [
       "  customer_id  churn_probability  churn_prediction\n",
       "0  4531-AUZNK           0.186073                 0\n",
       "1  2296-DKZFP           0.024340                 0\n",
       "2  9692-TUSXH           0.580656                 1\n",
       "3  5129-JLPIS           0.553840                 1\n",
       "4  1273-MTETI           0.600781                 1"
      ]
     },
     "execution_count": 147,
     "metadata": {},
     "output_type": "execute_result"
    }
   ],
   "source": [
    "final_output.head()"
   ]
  },
  {
   "cell_type": "code",
   "execution_count": 119,
   "metadata": {},
   "outputs": [],
   "source": [
    "#save predicions in csv in local directory\n",
    "predictions_final=final_output.to_csv('predictions')"
   ]
  },
  {
   "cell_type": "markdown",
   "metadata": {},
   "source": [
    "# conclusions\n",
    "## summary\n",
    "- We started with a few intuitive basic questions to approach this project is there a relationship between contract type and churn, is there a service associated with churn more than expected, do customers who churn have a higher average monthly service cost that those who do not, and does any method of payment have a positive relationship with customer churn? We visually and statistically demonstranted that it was a resounding yes to all.\n",
    "\n",
    "- Fiber optic customers,monthly contract customers, electronic check payment customers are the highest drivers for churn. Monthly charges also we determined that those who churn on average pay significantly more.\n",
    "\n",
    "- I was able to combine these features and create my best model a logarithmic regression classifier with a .78 accuracy and .49 recall. Due to the nature of importance of identifying those who churn recall is very important\n",
    "\n",
    "- my model is almost exactly the same across all data sets so I expect a consistent performance from it on other outsde data.\n",
    "\n"
   ]
  },
  {
   "cell_type": "markdown",
   "metadata": {},
   "source": [
    "## recommendations\n",
    "\n",
    "- Any discount to fiber optic customers is a temporary band-aid for a problem we do not yet know. I recommend surveying these customers and offering a one time discount on their next bill for their time.  Respondents can then point us to the paint points they are having.\n",
    "\n",
    "- I recommend going forward all payments are set up via auto-pay and an incentive structure is pushed out to convince current customers to switch to automatic payments.\n",
    "\n",
    "- I recommend to provide an 6 month contract with auto-pay only option that is set to auto renew at expiraton.\n",
    "\n",
    "\n"
   ]
  },
  {
   "cell_type": "markdown",
   "metadata": {},
   "source": [
    "## Next steps\n",
    "\n",
    "- The electronic check issue I would like to evaluate to see if this a commonality only amongst the senior citizen population. \n",
    "\n",
    "- I would like to take more time to ake my models and adjust the hyperparemeters\n",
    "\n",
    "- adding more features that I proved to be statistically significant drivers of churn\n"
   ]
  },
  {
   "cell_type": "markdown",
   "metadata": {},
   "source": []
  }
 ],
 "metadata": {
  "kernelspec": {
   "display_name": "Python 3.9.12 ('base')",
   "language": "python",
   "name": "python3"
  },
  "language_info": {
   "codemirror_mode": {
    "name": "ipython",
    "version": 3
   },
   "file_extension": ".py",
   "mimetype": "text/x-python",
   "name": "python",
   "nbconvert_exporter": "python",
   "pygments_lexer": "ipython3",
   "version": "3.9.12"
  },
  "orig_nbformat": 4,
  "vscode": {
   "interpreter": {
    "hash": "38cca0c38332a56087b24af0bc80247f4fced29cb4f7f437d91dc159adec9c4e"
   }
  }
 },
 "nbformat": 4,
 "nbformat_minor": 2
}
